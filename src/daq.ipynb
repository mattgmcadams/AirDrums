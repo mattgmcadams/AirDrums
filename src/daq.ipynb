{
 "cells": [
  {
   "cell_type": "code",
   "execution_count": 9,
   "outputs": [
    {
     "name": "stdout",
     "output_type": "stream",
     "text": [
      "127.79078042700331 214.83191266937393\n",
      "355.52589361103287 286.2403803626714\n",
      "100.7713602187286 296.5334928229665\n",
      "289.263982147883 357.00552852720034\n",
      "[(127.79078042700331, 214.83191266937393), (355.52589361103287, 286.2403803626714), (100.7713602187286, 296.5334928229665), (289.263982147883, 357.00552852720034)]\n"
     ]
    }
   ],
   "source": [
    "%matplotlib tk\n",
    "import matplotlib.pyplot as plt\n",
    "import matplotlib.image as mpimg\n",
    "\n",
    "fig = plt.figure(figsize=(20,30))\n",
    "\n",
    "img=mpimg.imread('/home/matt/PycharmProjects/AirDrums/data/raw/04262022-130602/cam0_92.jpg')\n",
    "\n",
    "def onclick(event):\n",
    "    ix, iy = event.xdata, event.ydata\n",
    "    print(ix, iy)\n",
    "\n",
    "cid = fig.canvas.mpl_connect('button_press_event', onclick)\n",
    "\n",
    "imgplot = plt.imshow(img)\n",
    "plt.show()\n",
    "\n",
    "pts = plt.ginput(4) #number of clicks\n",
    "print(pts)"
   ],
   "metadata": {
    "collapsed": false,
    "pycharm": {
     "name": "#%%\n"
    }
   }
  },
  {
   "cell_type": "code",
   "execution_count": 6,
   "outputs": [
    {
     "name": "stdout",
     "output_type": "stream",
     "text": [
      "['filename', ' timestamp', ' right_tip_x', ' right_tip_y', ' left_tip_x', ' left_tip_y', ' right_hand_x', ' right_hand_y', ' left_hand_x', ' left_hand_y']\n"
     ]
    }
   ],
   "source": [
    "import numpy as np\n",
    "import csv\n",
    "\n",
    "path = 'data/labelled/labelled_data.csv'\n",
    "with open(path, 'r') as f:\n",
    "    reader = csv.reader(f, delimiter=',')\n",
    "    headers = next(reader)\n",
    "    DATA = np.array(list(reader))\n",
    "\n",
    "print(headers)"
   ],
   "metadata": {
    "collapsed": false,
    "pycharm": {
     "name": "#%%\n"
    }
   }
  },
  {
   "cell_type": "code",
   "execution_count": 7,
   "outputs": [
    {
     "name": "stdout",
     "output_type": "stream",
     "text": [
      "AirDrums task with ['left_tip', 'right_tip', 'left_hand', 'right_hand'] categories defined\n"
     ]
    }
   ],
   "source": [
    "import torchvision.transforms as transforms\n",
    "from dataset import XYDataset\n",
    "\n",
    "TASK = 'AirDrums'\n",
    "\n",
    "CATEGORIES = ['left_tip', 'right_tip', 'left_hand', 'right_hand']\n",
    "\n",
    "DATASETS = ['A', 'B', 'C']\n",
    "\n",
    "TRANSFORMS = transforms.Compose([\n",
    "    transforms.ColorJitter(0.2, 0.2, 0.2, 0.2),\n",
    "    transforms.Resize((224, 224)),\n",
    "    transforms.ToTensor(),\n",
    "    transforms.Normalize([0.485, 0.456, 0.406], [0.229, 0.224, 0.225])\n",
    "])\n",
    "\n",
    "datasets = {}\n",
    "for name in DATASETS:\n",
    "    datasets[name] = XYDataset('../data/regression/' + TASK + '_' + name, DATA, TRANSFORMS)\n",
    "\n",
    "print(\"{} task with {} categories defined\".format(TASK, CATEGORIES))"
   ],
   "metadata": {
    "collapsed": false,
    "pycharm": {
     "name": "#%%\n"
    }
   }
  },
  {
   "cell_type": "code",
   "execution_count": 8,
   "outputs": [
    {
     "name": "stdout",
     "output_type": "stream",
     "text": [
      "['filename', 'timestamp']\n"
     ]
    }
   ],
   "source": [
    "import cv2\n",
    "import ipywidgets\n",
    "import traitlets\n",
    "from IPython.display import display, Image\n",
    "import os\n",
    "# from jetcam.utils import bgr8_to_jpeg #, jpeg_to_bgr8\n",
    "# from jupyter_clickable_image_widget import ClickableImageWidget\n",
    "import glob\n",
    "\n",
    "# pathname = 'data/raw/04262022-130602/*.jpg'\n",
    "# image_list = glob.glob(pathname, recursive=False)\n",
    "# image_list = sorted(image_list)\n",
    "#\n",
    "# image_list = np.genfromtxt('myfile.csv',delimiter=',')\n",
    "\n",
    "directory = '/home/matt/PycharmProjects/AirDrums/data/raw/04262022-130602'\n",
    "\n",
    "# initialize active dataset\n",
    "dataset = datasets[DATASETS[0]]\n",
    "\n",
    "\n",
    "path = '/home/matt/PycharmProjects/AirDrums/data/raw/04262022-130602/meta_cam0.csv'\n",
    "with open(path, 'r') as f:\n",
    "    reader = csv.reader(f, delimiter=',')\n",
    "    image_head = next(reader)\n",
    "    image_list = np.array(list(reader))\n",
    "\n",
    "print(image_head)\n",
    "\n",
    "\n"
   ],
   "metadata": {
    "collapsed": false,
    "pycharm": {
     "name": "#%%\n"
    }
   }
  },
  {
   "cell_type": "code",
   "execution_count": 10,
   "outputs": [
    {
     "name": "stdout",
     "output_type": "stream",
     "text": [
      "379.3287161754654 174.30278235696187\n",
      "241.01501749024965 274.0173093160709\n",
      "237.79841984640746 248.9278476941015\n",
      "333.0097101041373 297.82013188050337\n",
      "[(379.3287161754654, 174.30278235696187), (241.01501749024965, 274.0173093160709), (237.79841984640746, 248.9278476941015), (333.0097101041373, 297.82013188050337)]\n",
      "386.4052309919183 193.60236822001525\n",
      "386.4052309919183 193.60236822001525\n",
      "232.00854408749137 291.3869365928189\n",
      "232.00854408749137 291.3869365928189\n",
      "235.22514173133368 248.9278476941015\n",
      "235.22514173133368 248.9278476941015\n",
      "[(333.0097101041373, 298.4634514092718), (386.4052309919183, 193.60236822001525), (232.00854408749137, 291.3869365928189), (235.22514173133368, 248.9278476941015)]\n",
      "387.0485505206867 208.3987173816895\n",
      "387.0485505206867 208.3987173816895\n",
      "387.0485505206867 208.3987173816895\n",
      "192.76605283261625 314.546439628483\n",
      "192.76605283261625 314.546439628483\n",
      "192.76605283261625 314.546439628483\n",
      "250.66481042177634 239.92137429134328\n",
      "250.66481042177634 239.92137429134328\n",
      "250.66481042177634 239.92137429134328\n",
      "313.7101242410839 304.2533271681878\n",
      "313.7101242410839 304.2533271681878\n",
      "313.7101242410839 304.2533271681878\n",
      "[(387.0485505206867, 208.3987173816895), (192.76605283261625, 314.546439628483), (250.66481042177634, 239.92137429134328), (313.7101242410839, 304.2533271681878)]\n",
      "388.33518957822355 206.46875879538413\n",
      "388.33518957822355 206.46875879538413\n",
      "388.33518957822355 206.46875879538413\n",
      "388.33518957822355 206.46875879538413\n",
      "181.18630131478426 314.546439628483\n",
      "181.18630131478426 314.546439628483\n",
      "181.18630131478426 314.546439628483\n",
      "181.18630131478426 314.546439628483\n",
      "309.2068875397049 310.04320292710383\n",
      "309.2068875397049 310.04320292710383\n",
      "309.2068875397049 310.04320292710383\n",
      "309.2068875397049 310.04320292710383\n",
      "311.78016565477867 310.04320292710383\n",
      "311.78016565477867 310.04320292710383\n",
      "311.78016565477867 310.04320292710383\n",
      "311.78016565477867 310.04320292710383\n",
      "[(388.33518957822355, 206.46875879538413), (181.18630131478426, 314.546439628483), (309.2068875397049, 310.04320292710383), (311.78016565477867, 310.04320292710383)]\n",
      "374.18215994531784 138.92020827469742\n",
      "374.18215994531784 138.92020827469742\n",
      "374.18215994531784 138.92020827469742\n",
      "374.18215994531784 138.92020827469742\n",
      "374.18215994531784 138.92020827469742\n",
      "183.75957942985804 281.09382413252376\n",
      "183.75957942985804 281.09382413252376\n",
      "183.75957942985804 281.09382413252376\n",
      "183.75957942985804 281.09382413252376\n",
      "183.75957942985804 281.09382413252376\n",
      "274.46763298620886 218.04851031321613\n",
      "274.46763298620886 218.04851031321613\n",
      "274.46763298620886 218.04851031321613\n",
      "274.46763298620886 218.04851031321613\n",
      "274.46763298620886 218.04851031321613\n",
      "293.1238993204937 309.3998833983354\n",
      "293.1238993204937 309.3998833983354\n",
      "293.1238993204937 309.3998833983354\n",
      "293.1238993204937 309.3998833983354\n",
      "293.1238993204937 309.3998833983354\n",
      "[(374.18215994531784, 138.92020827469742), (183.75957942985804, 281.09382413252376), (274.46763298620886, 218.04851031321613), (293.1238993204937, 309.3998833983354)]\n",
      "326.5765148164528 88.09796550199025\n",
      "326.5765148164528 88.09796550199025\n",
      "326.5765148164528 88.09796550199025\n",
      "326.5765148164528 88.09796550199025\n",
      "326.5765148164528 88.09796550199025\n",
      "326.5765148164528 88.09796550199025\n",
      "156.0968396928149 250.2144867516384\n",
      "156.0968396928149 250.2144867516384\n",
      "156.0968396928149 250.2144867516384\n",
      "156.0968396928149 250.2144867516384\n",
      "156.0968396928149 250.2144867516384\n",
      "156.0968396928149 250.2144867516384\n",
      "278.9708696875879 229.62826183104818\n",
      "278.9708696875879 229.62826183104818\n",
      "278.9708696875879 229.62826183104818\n",
      "278.9708696875879 229.62826183104818\n",
      "278.9708696875879 229.62826183104818\n",
      "278.9708696875879 229.62826183104818\n",
      "277.68423063005105 295.890173294198\n",
      "277.68423063005105 295.890173294198\n",
      "277.68423063005105 295.890173294198\n",
      "277.68423063005105 295.890173294198\n",
      "277.68423063005105 295.890173294198\n",
      "277.68423063005105 295.890173294198\n",
      "[(326.5765148164528, 88.09796550199025), (156.0968396928149, 250.2144867516384), (278.9708696875879, 229.62826183104818), (277.68423063005105, 295.890173294198)]\n",
      "[(277.04091110128263, 295.890173294198)]\n"
     ]
    },
    {
     "ename": "IndexError",
     "evalue": "list index out of range",
     "output_type": "error",
     "traceback": [
      "\u001B[0;31m---------------------------------------------------------------------------\u001B[0m",
      "\u001B[0;31mIndexError\u001B[0m                                Traceback (most recent call last)",
      "Input \u001B[0;32mIn [10]\u001B[0m, in \u001B[0;36m<cell line: 17>\u001B[0;34m()\u001B[0m\n\u001B[1;32m     31\u001B[0m \u001B[38;5;28mprint\u001B[39m(pts)\n\u001B[1;32m     33\u001B[0m rtip \u001B[38;5;241m=\u001B[39m pts[\u001B[38;5;241m0\u001B[39m]\n\u001B[0;32m---> 34\u001B[0m ltip \u001B[38;5;241m=\u001B[39m \u001B[43mpts\u001B[49m\u001B[43m[\u001B[49m\u001B[38;5;241;43m1\u001B[39;49m\u001B[43m]\u001B[49m\n\u001B[1;32m     35\u001B[0m rhand \u001B[38;5;241m=\u001B[39m pts[\u001B[38;5;241m2\u001B[39m]\n\u001B[1;32m     36\u001B[0m lhand \u001B[38;5;241m=\u001B[39m pts[\u001B[38;5;241m3\u001B[39m]\n",
      "\u001B[0;31mIndexError\u001B[0m: list index out of range"
     ]
    }
   ],
   "source": [
    "%matplotlib tk\n",
    "import matplotlib.pyplot as plt\n",
    "import matplotlib.image as mpimg\n",
    "\n",
    "fig = plt.figure(figsize=(20,30))\n",
    "\n",
    "data=None\n",
    "rtipx=None\n",
    "rtipy=None\n",
    "ltipx=None\n",
    "ltipy=None\n",
    "rhandx=None\n",
    "rhandy=None\n",
    "lhandx=None\n",
    "lhandy=None\n",
    "\n",
    "for i in range(len(image_list)):\n",
    "\n",
    "    img=mpimg.imread(os.path.join(directory,image_list[i][0]))\n",
    "\n",
    "    def onclick(event):\n",
    "        ix, iy = event.xdata, event.ydata\n",
    "        print(ix, iy)\n",
    "\n",
    "    cid = fig.canvas.mpl_connect('button_press_event', onclick)\n",
    "\n",
    "    imgplot = plt.imshow(img)\n",
    "    plt.show()\n",
    "\n",
    "    pts = plt.ginput(4) #number of clicks\n",
    "    print(pts)\n",
    "\n",
    "    rtip = pts[0]\n",
    "    rhand = pts[1]\n",
    "    ltip = pts[2]\n",
    "    lhand = pts[3]\n",
    "\n",
    "    DATA = dataset.save_entry(filename=image_list[i][0], timestamp=image_list[i][1], rtip=rtip, ltip=ltip, rhand=rhand, lhand=lhand)\n",
    "\n",
    "np.savetxt(\"data/labelled/labelled.csv\", DATA, delimiter=\",\")\n"
   ],
   "metadata": {
    "collapsed": false,
    "pycharm": {
     "name": "#%%\n"
    }
   }
  },
  {
   "cell_type": "code",
   "execution_count": 18,
   "outputs": [
    {
     "data": {
      "text/plain": "HBox(children=(Image(value=b'\\xff\\xd8\\xff\\xe0\\x00\\x10JFIF\\x00\\x01\\x01\\x00\\x00\\x01\\x00\\x01\\x00\\x00\\xff\\xdb\\x00C…",
      "application/vnd.jupyter.widget-view+json": {
       "version_major": 2,
       "version_minor": 0,
       "model_id": "1bb1cab1a14446b1b2469e3a8f512bad"
      }
     },
     "metadata": {},
     "output_type": "display_data"
    },
    {
     "name": "stdout",
     "output_type": "stream",
     "text": [
      "data_collection_widget created\n"
     ]
    }
   ],
   "source": [
    "\n",
    "# create widgets\n",
    "dataset_widget = ipywidgets.Dropdown(options=DATASETS, description='dataset')\n",
    "category_widget = ipywidgets.Dropdown(options=dataset.categories, description='category')\n",
    "count_widget = ipywidgets.IntText(description='count')\n",
    "\n",
    "save_button = ipywidgets.Button(description='Save data')\n",
    "nextimg_button = ipywidgets.Button(description='Next Image')\n",
    "\n",
    "# def next_img(b):\n",
    "#     global image_list, image_num\n",
    "#     with open(image_list[image_num], 'rb') as file:\n",
    "#         next_image = file.read()\n",
    "#     snapshot_widget.value = next_image\n",
    "#     image_num += 1\n",
    "#     #camera = ipywidgets.Image(image_list[image_num])\n",
    "#     #traitlets.dlink((camera, 'value'), (camera_widget, 'value'))\n",
    "#\n",
    "# nextimg_button.on_click(next_img)\n",
    "\n",
    "# manually update counts at initialization\n",
    "count_widget.value = dataset.get_count(category_widget.value)\n",
    "\n",
    "\n",
    "# sets the active dataset\n",
    "def set_dataset(change):\n",
    "    global dataset\n",
    "    dataset = datasets[change['new']]\n",
    "    count_widget.value = dataset.get_count(category_widget.value)\n",
    "dataset_widget.observe(set_dataset, names='value')\n",
    "\n",
    "# update counts when we select a new category\n",
    "def update_counts(change):\n",
    "    count_widget.value = dataset.get_count(change['new'])\n",
    "category_widget.observe(update_counts, names='value')\n",
    "\n",
    "\n",
    "\n",
    "    global x, y, data\n",
    "    # if content['event'] == 'click':\n",
    "    #     data = content['eventData']\n",
    "    #     x = data['offsetX']\n",
    "    #     y = data['offsetY']\n",
    "    #\n",
    "    #     # save to disk\n",
    "    #     # dataset.save_entry(category_widget.value, camera.value, x, y)\n",
    "    #\n",
    "    #     # display saved snapshot\n",
    "    #     snapshot = snapshot_widget.copy().tobytes()\n",
    "    #     snapshot = cv2.circle(snapshot, (x, y), 8, (0, 255, 0), 3)\n",
    "    #     snapshot_widget.value = bgr8_to_jpeg(snapshot)\n",
    "    #     count_widget.value = dataset.get_count(category_widget.value)\n",
    "\n",
    "def save_snapshot(b):\n",
    "    global x, y, data\n",
    "    if data:\n",
    "        dataset.save_entry(category_widget.value, camera.value, x, y)\n",
    "\n",
    "\n",
    "save_button.on_click(save_snapshot)\n",
    "snapshot_widget.on_msg(display_snapshot)\n",
    "\n",
    "data_collection_widget = ipywidgets.HBox([\n",
    "    snapshot_widget,\n",
    "    ipywidgets.VBox([ipywidgets.HBox([nextimg_button, save_button]),\n",
    "    dataset_widget,\n",
    "    category_widget,\n",
    "    count_widget])])\n",
    "\n",
    "display(data_collection_widget)\n",
    "print(\"data_collection_widget created\")"
   ],
   "metadata": {
    "collapsed": false,
    "pycharm": {
     "name": "#%%\n"
    }
   }
  },
  {
   "cell_type": "code",
   "execution_count": null,
   "outputs": [],
   "source": [],
   "metadata": {
    "collapsed": false,
    "pycharm": {
     "name": "#%%\n"
    }
   }
  }
 ],
 "metadata": {
  "kernelspec": {
   "display_name": "Python 3",
   "language": "python",
   "name": "python3"
  },
  "language_info": {
   "codemirror_mode": {
    "name": "ipython",
    "version": 2
   },
   "file_extension": ".py",
   "mimetype": "text/x-python",
   "name": "python",
   "nbconvert_exporter": "python",
   "pygments_lexer": "ipython2",
   "version": "2.7.6"
  }
 },
 "nbformat": 4,
 "nbformat_minor": 0
}